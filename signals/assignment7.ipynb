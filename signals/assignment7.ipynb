{
 "cells": [
  {
   "cell_type": "code",
   "execution_count": 1,
   "metadata": {},
   "outputs": [],
   "source": [
    "from scipy.signal import CZT\n",
    "import numpy as np"
   ]
  },
  {
   "cell_type": "code",
   "execution_count": 2,
   "metadata": {},
   "outputs": [
    {
     "name": "stdout",
     "output_type": "stream",
     "text": [
      "[ 2  4  8 16 32]\n",
      "[15. +3.94745964e-16j -2.5+3.44095480e+00j -2.5+8.12299241e-01j\n",
      " -2.5-8.12299241e-01j -2.5-3.44095480e+00j]\n",
      "[ 62.        +5.13169754e-15j  -6.29179607+3.13318645e+01j\n",
      " -19.70820393+8.84953493e+00j -19.70820393-8.84953493e+00j\n",
      "  -6.29179607-3.13318645e+01j]\n",
      "[ 258.        +1.10528870e-14j  -17.27864045+1.68072001e+02j\n",
      " -106.72135955+5.13010977e+01j -106.72135955-5.13010977e+01j\n",
      "  -17.27864045-1.68072001e+02j]\n",
      "[ 2.35385293e+17+7.66144647e+01j  7.27380262e+16+2.23864707e+17j\n",
      " -1.90430673e+17+1.38355963e+17j -1.90430673e+17-1.38355963e+17j\n",
      "  7.27380262e+16-2.23864707e+17j]\n"
     ]
    }
   ],
   "source": [
    "\n",
    "ztrans = CZT(n=5)\n",
    "\n",
    "# Define the signal\n",
    "n = np.array([1, 2, 3, 4, 5])\n",
    "\n",
    "# x = a**n\n",
    "a = 2\n",
    "x = a**n\n",
    "\n",
    "# y = n * a**n\n",
    "y = n * x\n",
    "\n",
    "# z = e ** (a * n * T)\n",
    "# make a time vector\n",
    "T = np.arange(0, 5, 1)\n",
    "k = np.exp(a * T * n)\n",
    "\n",
    "\n",
    "print(x)\n",
    "\n",
    "res1 = ztrans(n)\n",
    "res2 = ztrans(x)\n",
    "res3 = ztrans(y)\n",
    "res4 = ztrans(k)\n",
    "\n",
    "\n",
    "print(res1)\n",
    "print(res2)\n",
    "print(res3)\n",
    "print(res4)\n",
    "\n",
    "\n"
   ]
  },
  {
   "cell_type": "code",
   "execution_count": 3,
   "metadata": {},
   "outputs": [
    {
     "name": "stdout",
     "output_type": "stream",
     "text": [
      "[0.96875   +0.j         0.43522034-0.24478019j 0.33040466-0.06913699j\n",
      " 0.33040466+0.06913699j 0.43522034+0.24478019j]\n",
      "[7.664     +1.35693925e-16j 0.69133126-7.70773875e-01j\n",
      " 0.47666874-1.81955030e-01j 0.47666874+1.81955030e-01j\n",
      " 0.69133126+7.70773875e-01j]\n"
     ]
    }
   ],
   "source": [
    "\n",
    "\n",
    "a = 1/2\n",
    "\n",
    "x = a**n\n",
    "y = 1 + n*(4/10)**(n-1)\n",
    "\n",
    "res1 = ztrans(x)\n",
    "res2 = ztrans(y)\n",
    "\n",
    "print(res1)\n",
    "print(res2)"
   ]
  },
  {
   "cell_type": "code",
   "execution_count": 4,
   "metadata": {},
   "outputs": [
    {
     "name": "stdout",
     "output_type": "stream",
     "text": [
      "Piecewise((2 - 1/2**n, n >= 0))\n",
      "Piecewise(((-1)**(n + 1)*n, n >= 0))\n"
     ]
    }
   ],
   "source": [
    "\n",
    "import lcapy as lc\n",
    "from lcapy.discretetime import z\n",
    "\n",
    "exp1 = 1/(1-1.5*z**(-1) + 0.5*z**(-2))\n",
    "xk=exp1.IZT()\n",
    "print(xk) \n",
    "\n",
    "\n",
    "exp2 = 1/((1+ z**(-1))+ (1+ z**(-1)**2))\n",
    "\n",
    "xk2=exp2.IZT()\n",
    "\n",
    "print(xk2)\n",
    "\n",
    "\n",
    "\n"
   ]
  }
 ],
 "metadata": {
  "kernelspec": {
   "display_name": "Python 3",
   "language": "python",
   "name": "python3"
  },
  "language_info": {
   "codemirror_mode": {
    "name": "ipython",
    "version": 3
   },
   "file_extension": ".py",
   "mimetype": "text/x-python",
   "name": "python",
   "nbconvert_exporter": "python",
   "pygments_lexer": "ipython3",
   "version": "3.10.9"
  },
  "orig_nbformat": 4,
  "vscode": {
   "interpreter": {
    "hash": "e39d5de67a178b44352d221f4ec5636a29cdefbe627de29e5c241f7f972742fb"
   }
  }
 },
 "nbformat": 4,
 "nbformat_minor": 2
}
