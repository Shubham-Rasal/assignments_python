{
 "cells": [
  {
   "cell_type": "code",
   "execution_count": 3,
   "metadata": {},
   "outputs": [],
   "source": [
    "#1 x(t) = A , -t/2 <= t <= t/2 ans zero elsewhere\n",
    "\n",
    "from sympy import *\n",
    "import sympy as sp\n",
    "import numpy as np\n"
   ]
  },
  {
   "cell_type": "code",
   "execution_count": 29,
   "metadata": {},
   "outputs": [
    {
     "data": {
      "text/plain": [
       "'Energy of the signal E1 = '"
      ]
     },
     "metadata": {},
     "output_type": "display_data"
    },
    {
     "data": {
      "image/png": "[encoded data removed]",
      "text/latex": [
       "$\\displaystyle A^{2} t_{1}$"
      ],
      "text/plain": [
       " 2   \n",
       "A ⋅t₁"
      ]
     },
     "metadata": {},
     "output_type": "display_data"
    },
    {
     "data": {
      "text/plain": [
       "'Power of the signal P1 = '"
      ]
     },
     "metadata": {},
     "output_type": "display_data"
    },
    {
     "data": {
      "image/png": "[encoded data removed]",
      "text/latex": [
       "$\\displaystyle 0$"
      ],
      "text/plain": [
       "0"
      ]
     },
     "metadata": {},
     "output_type": "display_data"
    },
    {
     "data": {
      "text/plain": [
       "'x(t) signal is a energy signal'"
      ]
     },
     "metadata": {},
     "output_type": "display_data"
    },
    {
     "data": {
      "image/png": "[encoded data removed]",
      "text/latex": [
       "$\\displaystyle \\int\\limits_{- \\frac{t_{1}}{2}}^{\\frac{t_{1}}{2}} A^{2}\\, dt$"
      ],
      "text/plain": [
       " t₁       \n",
       " ──       \n",
       " 2        \n",
       " ⌠        \n",
       " ⎮    2   \n",
       " ⎮   A  dt\n",
       " ⌡        \n",
       "-t₁       \n",
       "────      \n",
       " 2        "
      ]
     },
     "execution_count": 29,
     "metadata": {},
     "output_type": "execute_result"
    }
   ],
   "source": [
    "A,t,t1,T,n,N = symbols('A t t1 T n N')\n",
    "init_printing(pretty_print=True)\n",
    "Integral(A**2, (t, -t1/2, t1/2))\n",
    "\n",
    "Energy = integrate(A**2, (t, -t1/2, t1/2))\n",
    "display('Energy of the signal E1 = ', Energy)\n",
    "E1 = Energy \n",
    "\n",
    "Power = limit((Integral(A**2, (t, -t1/2, t1/2)))/T, T, oo)\n",
    "display('Power of the signal P1 = ', Power)\n",
    "P1 = Power\n",
    "\n",
    "if E1 == oo and P1 != 0 and P1 != oo:\n",
    "    display('x(t) signal is a power signal')\n",
    "if P1 == 0 and E1 != oo and E1 != 0:\n",
    "    display('x(t) signal is a energy signal')\n",
    "if E1 == 0 and P1 == 0:\n",
    "    display('x(t) signal is neither energy nor power signal')\n",
    "if E1 == oo and P1 == oo:\n",
    "    display('x(t) signal is neither energy nor power signal')\n",
    "if E1 == oo and P1 != oo and P1 == 0:\n",
    "    display('x(t) signal is neither energy nor power signal')\n",
    "\n",
    "Integral(A**2, (t, -t1/2, t1/2))\n",
    "\n",
    "\n"
   ]
  },
  {
   "cell_type": "code",
   "execution_count": 18,
   "metadata": {},
   "outputs": [
    {
     "data": {
      "text/plain": [
       "'Energy of the signal E1 = '"
      ]
     },
     "metadata": {},
     "output_type": "display_data"
    },
    {
     "data": {
      "image/png": "[encoded data removed]",
      "text/latex": [
       "$\\displaystyle A^{2} t_{1}$"
      ],
      "text/plain": [
       " 2   \n",
       "A ⋅t₁"
      ]
     },
     "metadata": {},
     "output_type": "display_data"
    },
    {
     "data": {
      "text/plain": [
       "'Power of the signal P1 = '"
      ]
     },
     "metadata": {},
     "output_type": "display_data"
    },
    {
     "data": {
      "image/png": "[encoded data removed]",
      "text/latex": [
       "$\\displaystyle 0$"
      ],
      "text/plain": [
       "0"
      ]
     },
     "metadata": {},
     "output_type": "display_data"
    }
   ],
   "source": []
  },
  {
   "cell_type": "code",
   "execution_count": 5,
   "metadata": {},
   "outputs": [
    {
     "data": {
      "text/plain": [
       "'x(t) signal is a energy signal'"
      ]
     },
     "metadata": {},
     "output_type": "display_data"
    }
   ],
   "source": [
    "\n",
    "    "
   ]
  },
  {
   "cell_type": "code",
   "execution_count": 6,
   "metadata": {},
   "outputs": [
    {
     "data": {
      "image/png": "[encoded data removed]",
      "text/latex": [
       "$\\displaystyle \\int\\limits_{-\\infty}^{\\infty} \\cos^{2}{\\left(t \\right)}\\, dt$"
      ],
      "text/plain": [
       "∞            \n",
       "⌠            \n",
       "⎮     2      \n",
       "⎮  cos (t) dt\n",
       "⌡            \n",
       "-∞           "
      ]
     },
     "execution_count": 6,
     "metadata": {},
     "output_type": "execute_result"
    }
   ],
   "source": [
    "#2. x(t)  = cos(t)\n",
    "\n",
    "Integral(sp.cos(t)**2, (t, -oo, oo))"
   ]
  },
  {
   "cell_type": "code",
   "execution_count": 30,
   "metadata": {},
   "outputs": [
    {
     "data": {
      "text/plain": [
       "'Energy of the signal E2 = '"
      ]
     },
     "metadata": {},
     "output_type": "display_data"
    },
    {
     "data": {
      "image/png": "[encoded data removed]",
      "text/latex": [
       "$\\displaystyle \\infty$"
      ],
      "text/plain": [
       "∞"
      ]
     },
     "metadata": {},
     "output_type": "display_data"
    },
    {
     "data": {
      "text/plain": [
       "'Power of the signal P2 = '"
      ]
     },
     "metadata": {},
     "output_type": "display_data"
    },
    {
     "data": {
      "image/png": "[encoded data removed]",
      "text/latex": [
       "$\\displaystyle \\frac{1}{2}$"
      ],
      "text/plain": [
       "1/2"
      ]
     },
     "metadata": {},
     "output_type": "display_data"
    },
    {
     "data": {
      "text/plain": [
       "'x(t) signal is a power signal'"
      ]
     },
     "metadata": {},
     "output_type": "display_data"
    },
    {
     "data": {
      "image/png": "[encoded data removed]",
      "text/latex": [
       "$\\displaystyle \\int\\limits_{-\\infty}^{\\infty} \\cos^{2}{\\left(t \\right)}\\, dt$"
      ],
      "text/plain": [
       "∞            \n",
       "⌠            \n",
       "⎮     2      \n",
       "⎮  cos (t) dt\n",
       "⌡            \n",
       "-∞           "
      ]
     },
     "execution_count": 30,
     "metadata": {},
     "output_type": "execute_result"
    }
   ],
   "source": [
    "Energy = integrate(sp.cos(t)**2, (t, -oo, oo))\n",
    "display('Energy of the signal E2 = ', Energy)\n",
    "E2 = Energy \n",
    "\n",
    "Integral((sp.cos(t)**2)/T, (t, -T/2, T/2))\n",
    "\n",
    "Power = limit(integrate((sp.cos(t)**2)/T, (t, -T/2, T/2)), T, oo)\n",
    "display('Power of the signal P2 = ', Power)\n",
    "P2 = Power\n",
    "\n",
    "if E2 == oo and P2 != 0 and P2 != oo:\n",
    "    display('x(t) signal is a power signal')\n",
    "if P2 == 0 and E2 != oo and E2 != 0:\n",
    "    display('x(t) signal is a energy signal')\n",
    "if E2 == 0 and P2 == 0:\n",
    "    display('x(t) signal is neither energy nor power signal')\n",
    "if E2 == oo and P2 == oo:\n",
    "    display('x(t) signal is neither energy nor power signal')\n",
    "if E2 == oo and P2 != oo and P2 == 0:\n",
    "    display('x(t) signal is neither energy nor power signal')\n",
    "\n",
    "Integral(sp.cos(t)**2, (t, -oo, oo))"
   ]
  },
  {
   "cell_type": "code",
   "execution_count": 45,
   "metadata": {},
   "outputs": [
    {
     "data": {
      "text/plain": [
       "'x(t) signal is a power signal'"
      ]
     },
     "metadata": {},
     "output_type": "display_data"
    }
   ],
   "source": []
  },
  {
   "cell_type": "code",
   "execution_count": 38,
   "metadata": {},
   "outputs": [
    {
     "data": {
      "text/plain": [
       "'Energy of the signal E3 = '"
      ]
     },
     "metadata": {},
     "output_type": "display_data"
    },
    {
     "data": {
      "image/png": "[encoded data removed]",
      "text/latex": [
       "$\\displaystyle 1.0$"
      ],
      "text/plain": [
       "1.00000000000000"
      ]
     },
     "metadata": {},
     "output_type": "display_data"
    },
    {
     "data": {
      "text/plain": [
       "'Power of the signal P3 = '"
      ]
     },
     "metadata": {},
     "output_type": "display_data"
    },
    {
     "data": {
      "image/png": "[encoded data removed]",
      "text/latex": [
       "$\\displaystyle 0$"
      ],
      "text/plain": [
       "0"
      ]
     },
     "metadata": {},
     "output_type": "display_data"
    },
    {
     "data": {
      "text/plain": [
       "'x(t) signal is a energy signal'"
      ]
     },
     "metadata": {},
     "output_type": "display_data"
    },
    {
     "data": {
      "image/png": "[encoded data removed]",
      "text/latex": [
       "$\\displaystyle \\int\\limits_{0}^{\\infty} 0.25^{2 n}\\, dn$"
      ],
      "text/plain": [
       "∞           \n",
       "⌠           \n",
       "⎮     2⋅n   \n",
       "⎮ 0.25    dn\n",
       "⌡           \n",
       "0           "
      ]
     },
     "execution_count": 38,
     "metadata": {},
     "output_type": "execute_result"
    }
   ],
   "source": [
    "#3. x(n) = 1/4^n*U(n)\n",
    "\n",
    "Energy  = Sum(((1/4)**n)**2, (n, 0, oo))\n",
    "E3 = Energy.evalf()\n",
    "\n",
    "display('Energy of the signal E3 = ', E3)\n",
    "\n",
    "Power = Sum(((1/4)**n)**2, (n, 0, N))/(2*N)\n",
    "y = Power.doit()\n",
    "Power1 = limit(y, N, oo)\n",
    "P3 = Power1\n",
    "display('Power of the signal P3 = ', P3)\n",
    "\n",
    "if E3 == oo and P3 != 0 and P3 != oo:\n",
    "    display('x(t) signal is a power signal')\n",
    "if P3 == 0 and E3 != oo and E3 != 0:\n",
    "    display('x(t) signal is a energy signal')\n",
    "if E3 == 0 and P3 == 0:\n",
    "    display('x(t) signal is neither energy nor power signal')\n",
    "if E3 == oo and P3 == oo:\n",
    "    display('x(t) signal is neither energy nor power signal')\n",
    "if E3 == oo and P3 != oo and P3 == 0:\n",
    "    display('x(t) signal is neither energy nor power signal')\n",
    "\n",
    "Integral(((1/4)**n)**2, (n, 0, oo))"
   ]
  },
  {
   "cell_type": "code",
   "execution_count": 37,
   "metadata": {},
   "outputs": [
    {
     "data": {
      "text/plain": [
       "'x(t) signal is a energy signal'"
      ]
     },
     "metadata": {},
     "output_type": "display_data"
    },
    {
     "data": {
      "image/png": "[encoded data removed]",
      "text/latex": [
       "$\\displaystyle \\int\\limits_{0}^{\\infty} 0.25^{2 n}\\, dn$"
      ],
      "text/plain": [
       "∞           \n",
       "⌠           \n",
       "⎮     2⋅n   \n",
       "⎮ 0.25    dn\n",
       "⌡           \n",
       "0           "
      ]
     },
     "execution_count": 37,
     "metadata": {},
     "output_type": "execute_result"
    }
   ],
   "source": []
  },
  {
   "cell_type": "code",
   "execution_count": 10,
   "metadata": {},
   "outputs": [
    {
     "data": {
      "image/png": "[encoded data removed]",
      "text/latex": [
       "$\\displaystyle \\int\\limits_{2}^{\\infty} t^{-1.0}\\, dt$"
      ],
      "text/plain": [
       "∞         \n",
       "⌠         \n",
       "⎮  -1.0   \n",
       "⎮ t     dt\n",
       "⌡         \n",
       "2         "
      ]
     },
     "execution_count": 10,
     "metadata": {},
     "output_type": "execute_result"
    }
   ],
   "source": [
    "#4. (t)^(-0.5)U((t-2))\n",
    "\n",
    "x = Integral(((t)**(-0.5))**2, (t, 2, oo))\n",
    "Energy = x\n",
    "Energy"
   ]
  },
  {
   "cell_type": "code",
   "execution_count": 47,
   "metadata": {},
   "outputs": [
    {
     "data": {
      "text/plain": [
       "'Energy of the signal E4 = '"
      ]
     },
     "metadata": {},
     "output_type": "display_data"
    },
    {
     "data": {
      "image/png": "[encoded data removed]",
      "text/latex": [
       "$\\displaystyle \\infty$"
      ],
      "text/plain": [
       "∞"
      ]
     },
     "metadata": {},
     "output_type": "display_data"
    },
    {
     "data": {
      "text/plain": [
       "'Power of the signal P4 = '"
      ]
     },
     "metadata": {},
     "output_type": "display_data"
    },
    {
     "data": {
      "image/png": "[encoded data removed]",
      "text/latex": [
       "$\\displaystyle 0$"
      ],
      "text/plain": [
       "0"
      ]
     },
     "metadata": {},
     "output_type": "display_data"
    },
    {
     "data": {
      "text/plain": [
       "'x(t) signal is neither energy nor power signal'"
      ]
     },
     "metadata": {},
     "output_type": "display_data"
    },
    {
     "data": {
      "image/png": "[encoded data removed]",
      "text/latex": [
       "$\\displaystyle \\frac{\\int\\limits_{2}^{\\frac{T}{2}} t^{-1.0}\\, dt}{T}$"
      ],
      "text/plain": [
       "T         \n",
       "─         \n",
       "2         \n",
       "⌠         \n",
       "⎮  -1.0   \n",
       "⎮ t     dt\n",
       "⌡         \n",
       "2         \n",
       "──────────\n",
       "    T     "
      ]
     },
     "execution_count": 47,
     "metadata": {},
     "output_type": "execute_result"
    }
   ],
   "source": [
    "y = integrate(((t)**(-0.5))**2, (t, 2, oo))\n",
    "E4 = y\n",
    "display('Energy of the signal E4 = ', E4)\n",
    "\n",
    "y1 = limit((1/T)*integrate(((t)**(-1/2))**2, (t, 2, T/2)), T, oo)\n",
    "display('Power of the signal P4 = ', y1)\n",
    "P4 = y1\n",
    "\n",
    "if E4 == oo and P4 != 0 and P4 != oo:\n",
    "    display('x(t) signal is a power signal')\n",
    "if P4 == 0 and E4 != oo and E4 != 0:\n",
    "    display('x(t) signal is a energy signal')\n",
    "if E4 == 0 and P4 == 0:\n",
    "    display('x(t) signal is neither energy nor power signal')\n",
    "if E4 == oo and P4 == oo:\n",
    "    display('x(t) signal is neither energy nor power signal')\n",
    "if E4 == oo and P4 != oo and P4 == 0:\n",
    "    display('x(t) signal is neither energy nor power signal')\n",
    "\n",
    "(1/T)*Integral(((t)**(-1/2))**2, (t, 2, T/2))"
   ]
  },
  {
   "cell_type": "code",
   "execution_count": 39,
   "metadata": {},
   "outputs": [
    {
     "data": {
      "image/png": "[encoded data removed]",
      "text/latex": [
       "$\\displaystyle \\frac{\\int\\limits_{2}^{\\frac{T}{2}} t^{-1.0}\\, dt}{T}$"
      ],
      "text/plain": [
       "T         \n",
       "─         \n",
       "2         \n",
       "⌠         \n",
       "⎮  -1.0   \n",
       "⎮ t     dt\n",
       "⌡         \n",
       "2         \n",
       "──────────\n",
       "    T     "
      ]
     },
     "execution_count": 39,
     "metadata": {},
     "output_type": "execute_result"
    }
   ],
   "source": []
  },
  {
   "cell_type": "code",
   "execution_count": 42,
   "metadata": {},
   "outputs": [
    {
     "data": {
      "text/plain": [
       "'Power of the signal P4 = '"
      ]
     },
     "metadata": {},
     "output_type": "display_data"
    },
    {
     "data": {
      "image/png": "[encoded data removed]",
      "text/latex": [
       "$\\displaystyle 0$"
      ],
      "text/plain": [
       "0"
      ]
     },
     "metadata": {},
     "output_type": "display_data"
    }
   ],
   "source": []
  },
  {
   "cell_type": "code",
   "execution_count": 45,
   "metadata": {},
   "outputs": [
    {
     "data": {
      "text/plain": [
       "'x(t) signal is neither energy nor power signal'"
      ]
     },
     "metadata": {},
     "output_type": "display_data"
    },
    {
     "data": {
      "image/png": "[encoded data removed]",
      "text/latex": [
       "$\\displaystyle \\frac{\\int\\limits_{2}^{\\frac{T}{2}} t^{-1.0}\\, dt}{T}$"
      ],
      "text/plain": [
       "T         \n",
       "─         \n",
       "2         \n",
       "⌠         \n",
       "⎮  -1.0   \n",
       "⎮ t     dt\n",
       "⌡         \n",
       "2         \n",
       "──────────\n",
       "    T     "
      ]
     },
     "execution_count": 45,
     "metadata": {},
     "output_type": "execute_result"
    }
   ],
   "source": [
    "\n"
   ]
  },
  {
   "cell_type": "code",
   "execution_count": 12,
   "metadata": {},
   "outputs": [],
   "source": [
    "#5. x(t) = -4 , 0 <= t <= 2 and \n",
    "# x(t) = 4 , t >2 and t < 4\n",
    "# x(t) = -4 , t > 4 and t < 6\n",
    "\n",
    "from sympy import Piecewise\n"
   ]
  },
  {
   "cell_type": "markdown",
   "metadata": {},
   "source": [
    "> ### Q5"
   ]
  },
  {
   "cell_type": "code",
   "execution_count": 48,
   "metadata": {},
   "outputs": [
    {
     "data": {
      "text/plain": [
       "'Power of the signal P5 = '"
      ]
     },
     "metadata": {},
     "output_type": "display_data"
    },
    {
     "data": {
      "image/png": "[encoded data removed]",
      "text/latex": [
       "$\\displaystyle 0$"
      ],
      "text/plain": [
       "0"
      ]
     },
     "metadata": {},
     "output_type": "display_data"
    },
    {
     "data": {
      "text/plain": [
       "'Energy of the signal E5 = '"
      ]
     },
     "metadata": {},
     "output_type": "display_data"
    },
    {
     "data": {
      "image/png": "[encoded data removed]",
      "text/latex": [
       "$\\displaystyle 96$"
      ],
      "text/plain": [
       "96"
      ]
     },
     "metadata": {},
     "output_type": "display_data"
    },
    {
     "data": {
      "text/plain": [
       "'Power of the signal P5 = '"
      ]
     },
     "metadata": {},
     "output_type": "display_data"
    },
    {
     "data": {
      "image/png": "[encoded data removed]",
      "text/latex": [
       "$\\displaystyle 0$"
      ],
      "text/plain": [
       "0"
      ]
     },
     "metadata": {},
     "output_type": "display_data"
    },
    {
     "data": {
      "text/plain": [
       "'x(t) signal is a energy signal'"
      ]
     },
     "metadata": {},
     "output_type": "display_data"
    },
    {
     "data": {
      "text/latex": [
       "$\\displaystyle \\int\\limits_{0}^{6} \\begin{cases} 16 & \\text{for}\\: \\left(t \\geq 0 \\vee t > 2 \\vee t > 4\\right) \\wedge \\left(t \\geq 0 \\vee t > 2 \\vee t < 6\\right) \\wedge \\left(t \\geq 0 \\vee t > 4 \\vee t < 4\\right) \\wedge \\left(t \\geq 0 \\vee t < 4 \\vee t < 6\\right) \\wedge \\left(t \\leq 2 \\vee t > 4 \\vee t < 4\\right) \\wedge \\left(t \\leq 2 \\vee t < 4 \\vee t < 6\\right) \\\\0 & \\text{otherwise} \\end{cases}\\, dt$"
      ],
      "text/plain": [
       "6                                                                             \n",
       "⌠                                                                             \n",
       "⎮ ⎧16  for (t ≥ 0 ∨ t > 2 ∨ t > 4) ∧ (t ≥ 0 ∨ t > 2 ∨ t < 6) ∧ (t ≥ 0 ∨ t > 4 \n",
       "⎮ ⎨                                                                           \n",
       "⎮ ⎩0                                                                          \n",
       "⌡                                                                             \n",
       "0                                                                             \n",
       "\n",
       "                                                                              \n",
       "                                                                              \n",
       "∨ t < 4) ∧ (t ≥ 0 ∨ t < 4 ∨ t < 6) ∧ (t ≤ 2 ∨ t > 4 ∨ t < 4) ∧ (t ≤ 2 ∨ t < 4 \n",
       "                                                                              \n",
       "   otherwise                                                                  \n",
       "                                                                              \n",
       "                                                                              \n",
       "\n",
       "           \n",
       "           \n",
       "∨ t < 6)   \n",
       "         dt\n",
       "           \n",
       "           \n",
       "           "
      ]
     },
     "execution_count": 48,
     "metadata": {},
     "output_type": "execute_result"
    }
   ],
   "source": [
    "f = Piecewise((-4, (t >= 0) & (t <= 2)), (4, (t > 2) & (t < 4)), (-4, (t > 4) & (t < 6)), (0, True))\n",
    "x = Integral(f**2, (t, 0, 6))\n",
    "Energy = x\n",
    "Energy\n",
    "y = integrate(f**2, (t, 0, 6))\n",
    "E5 = y\n",
    "y1 = limit((Integral(f**2, (t, -t1/2, t1/2)))/T, T, oo)\n",
    "display('Power of the signal P5 = ', y1)\n",
    "P5 = y1\n",
    "\n",
    "display('Energy of the signal E5 = ', E5)\n",
    "display('Power of the signal P5 = ', y1)\n",
    "if E5 == oo and P5 != 0 and P5 != oo:\n",
    "    display('x(t) signal is a power signal')\n",
    "if P5 == 0 and E5 != oo and E5 != 0:\n",
    "    display('x(t) signal is a energy signal')\n",
    "if E5 == 0 and P5 == 0:\n",
    "    display('x(t) signal is neither energy nor power signal')\n",
    "if E5 == oo and P5 == oo:\n",
    "    display('x(t) signal is neither energy nor power signal')\n",
    "if E5 == oo and P5 != oo and P5 == 0:\n",
    "    display('x(t) signal is neither energy nor power signal')\n",
    "x"
   ]
  },
  {
   "cell_type": "code",
   "execution_count": 14,
   "metadata": {},
   "outputs": [],
   "source": [
    "\n"
   ]
  },
  {
   "cell_type": "code",
   "execution_count": 15,
   "metadata": {},
   "outputs": [
    {
     "data": {
      "text/plain": [
       "'Power of the signal P5 = '"
      ]
     },
     "metadata": {},
     "output_type": "display_data"
    },
    {
     "data": {
      "image/png": "[encoded data removed]",
      "text/latex": [
       "$\\displaystyle 0$"
      ],
      "text/plain": [
       "0"
      ]
     },
     "metadata": {},
     "output_type": "display_data"
    }
   ],
   "source": []
  },
  {
   "cell_type": "code",
   "execution_count": 16,
   "metadata": {},
   "outputs": [
    {
     "data": {
      "text/plain": [
       "'Energy of the signal E5 = '"
      ]
     },
     "metadata": {},
     "output_type": "display_data"
    },
    {
     "data": {
      "image/png": "[encoded data removed]",
      "text/latex": [
       "$\\displaystyle 96$"
      ],
      "text/plain": [
       "96"
      ]
     },
     "metadata": {},
     "output_type": "display_data"
    },
    {
     "data": {
      "text/plain": [
       "'Power of the signal P5 = '"
      ]
     },
     "metadata": {},
     "output_type": "display_data"
    },
    {
     "data": {
      "image/png": "[encoded data removed]",
      "text/latex": [
       "$\\displaystyle 0$"
      ],
      "text/plain": [
       "0"
      ]
     },
     "metadata": {},
     "output_type": "display_data"
    },
    {
     "data": {
      "text/plain": [
       "'x(t) signal is a energy signal'"
      ]
     },
     "metadata": {},
     "output_type": "display_data"
    }
   ],
   "source": []
  },
  {
   "cell_type": "markdown",
   "metadata": {},
   "source": []
  }
 ],
 "metadata": {
  "kernelspec": {
   "display_name": "Python 3.10.8 64-bit (microsoft store)",
   "language": "python",
   "name": "python3"
  },
  "language_info": {
   "codemirror_mode": {
    "name": "ipython",
    "version": 3
   },
   "file_extension": ".py",
   "mimetype": "text/x-python",
   "name": "python",
   "nbconvert_exporter": "python",
   "pygments_lexer": "ipython3",
   "version": "3.10.9 (tags/v3.10.9:1dd9be6, Dec  6 2022, 20:01:21) [MSC v.1934 64 bit (AMD64)]"
  },
  "orig_nbformat": 4,
  "vscode": {
   "interpreter": {
    "hash": "e39d5de67a178b44352d221f4ec5636a29cdefbe627de29e5c241f7f972742fb"
   }
  }
 },
 "nbformat": 4,
 "nbformat_minor": 2
}
