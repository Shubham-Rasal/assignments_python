{
 "cells": [
  {
   "cell_type": "code",
   "execution_count": 69,
   "metadata": {},
   "outputs": [
    {
     "data": {
      "text/plain": [
       "array([[ 2, 10],\n",
       "       [ 2,  6],\n",
       "       [11, 11],\n",
       "       [ 6,  9],\n",
       "       [ 6,  4],\n",
       "       [ 1,  2],\n",
       "       [ 5, 10],\n",
       "       [ 4,  9],\n",
       "       [10, 12],\n",
       "       [ 7,  5],\n",
       "       [ 9, 11],\n",
       "       [ 4,  6],\n",
       "       [ 3, 10],\n",
       "       [ 3,  8],\n",
       "       [ 6, 11]])"
      ]
     },
     "execution_count": 69,
     "metadata": {},
     "output_type": "execute_result"
    }
   ],
   "source": [
    "dataset = [\n",
    "    (2, 10),\n",
    "    (2, 6),\n",
    "    (11, 11),\n",
    "    (6, 9),\n",
    "    (6, 4),\n",
    "    (1, 2),\n",
    "    (5, 10),\n",
    "    (4, 9),\n",
    "    (10, 12),\n",
    "    (7, 5),\n",
    "    (9, 11),\n",
    "    (4, 6),\n",
    "    (3, 10),\n",
    "    (3, 8),\n",
    "    (6, 11),\n",
    "]\n",
    "\n",
    "# label them\n",
    "# 0 = A1\n",
    "\n",
    "labelled_dataset = []\n",
    "\n",
    "for i in range(len(dataset)):\n",
    "    labelled_dataset.append((\"A\" + str(i+1), [dataset[i][0], dataset[i][1]]))\n",
    "\n",
    "labelled_dataset\n",
    "\n",
    "#convert to 2d numpy array\n",
    "import numpy as np\n",
    "\n",
    "dataset = np.array(dataset)\n",
    "dataset"
   ]
  },
  {
   "cell_type": "markdown",
   "metadata": {},
   "source": [
    "## K - Means Clustering"
   ]
  },
  {
   "cell_type": "markdown",
   "metadata": {},
   "source": [
    "K = 2"
   ]
  },
  {
   "cell_type": "code",
   "execution_count": 70,
   "metadata": {},
   "outputs": [
    {
     "data": {
      "text/plain": [
       "array([[ 3, 10],\n",
       "       [ 2,  6]])"
      ]
     },
     "execution_count": 70,
     "metadata": {},
     "output_type": "execute_result"
    }
   ],
   "source": [
    "#k mean\n",
    "import numpy as np\n",
    "\n",
    "# 1. randomly select k points as centroids\n",
    "# 2. assign each point to the closest centroid\n",
    "# 3. recompute the centroids of newly formed clusters\n",
    "# 4. repeat steps 2 and 3 until the centroids don't change\n",
    "\n",
    "# 1. randomly select k points as centroids\n",
    "k = 2\n",
    "centroids = dataset[np.random.randint(0, len(dataset), size=k)]\n",
    "centroids"
   ]
  },
  {
   "cell_type": "code",
   "execution_count": 71,
   "metadata": {},
   "outputs": [
    {
     "data": {
      "text/plain": [
       "{0: [array([ 2, 10]),\n",
       "  array([11, 11]),\n",
       "  array([6, 9]),\n",
       "  array([ 5, 10]),\n",
       "  array([4, 9]),\n",
       "  array([10, 12]),\n",
       "  array([ 9, 11]),\n",
       "  array([ 3, 10]),\n",
       "  array([3, 8]),\n",
       "  array([ 6, 11])],\n",
       " 1: [array([2, 6]),\n",
       "  array([6, 4]),\n",
       "  array([1, 2]),\n",
       "  array([7, 5]),\n",
       "  array([4, 6])]}"
      ]
     },
     "execution_count": 71,
     "metadata": {},
     "output_type": "execute_result"
    }
   ],
   "source": [
    "# 2. assign each point to the closest centroid\n",
    "def assign_to_centroid(dataset, centroids):\n",
    "    \"\"\"\n",
    "    Assigns each point in the dataset to the nearest centroid.\n",
    "\n",
    "    Parameters:\n",
    "    - dataset (list): List of points in the dataset.\n",
    "    - centroids (list): List of centroids.\n",
    "\n",
    "    Returns:\n",
    "    - clusters (dict): Dictionary where the keys are cluster indices and the values are lists of points assigned to each cluster.\n",
    "    \"\"\"\n",
    "    clusters = {}\n",
    "    for point in dataset:\n",
    "        distances = []\n",
    "        for centroid in centroids:\n",
    "            distances.append(np.linalg.norm(point - centroid))\n",
    "        cluster = np.argmin(distances)\n",
    "        if cluster not in clusters:\n",
    "            clusters[cluster] = []\n",
    "        clusters[cluster].append(point)\n",
    "    return clusters\n",
    "\n",
    "clusters = assign_to_centroid(dataset, centroids)\n",
    "clusters"
   ]
  },
  {
   "cell_type": "code",
   "execution_count": 72,
   "metadata": {},
   "outputs": [
    {
     "data": {
      "text/plain": [
       "[[5.9, 10.1], [4.0, 4.6]]"
      ]
     },
     "execution_count": 72,
     "metadata": {},
     "output_type": "execute_result"
    }
   ],
   "source": [
    "# 3. recompute the centroids of newly formed clusters\n",
    "\n",
    "def recompute_centroids(dataset, clusters):\n",
    "    \"\"\"\n",
    "    Recomputes the centroids for each cluster based on the current assignments.\n",
    "\n",
    "    Args:\n",
    "        dataset (numpy.ndarray): The dataset containing the data points.\n",
    "        clusters (dict): A dictionary mapping cluster indices to the data points assigned to each cluster.\n",
    "\n",
    "    Returns:\n",
    "        list: A list of centroids, where each centroid is the mean of the data points in its corresponding cluster.\n",
    "    \"\"\"\n",
    "    centroids = []\n",
    "    for cluster in clusters:\n",
    "        centroids.append(np.mean(clusters[cluster], axis=0).tolist())\n",
    "    return centroids\n",
    "\n",
    "centroids = recompute_centroids(dataset, clusters)\n",
    "centroids\n",
    "    #  [array([1.66666667, 6.        ]), array([6.16666667, 8.83333333])]"
   ]
  },
  {
   "cell_type": "code",
   "execution_count": 73,
   "metadata": {},
   "outputs": [
    {
     "data": {
      "text/plain": [
       "{0: [array([ 2, 10]),\n",
       "  array([11, 11]),\n",
       "  array([6, 9]),\n",
       "  array([ 5, 10]),\n",
       "  array([4, 9]),\n",
       "  array([10, 12]),\n",
       "  array([ 9, 11]),\n",
       "  array([ 3, 10]),\n",
       "  array([ 6, 11])],\n",
       " 1: [array([2, 6]),\n",
       "  array([6, 4]),\n",
       "  array([1, 2]),\n",
       "  array([7, 5]),\n",
       "  array([4, 6]),\n",
       "  array([3, 8])]}"
      ]
     },
     "execution_count": 73,
     "metadata": {},
     "output_type": "execute_result"
    }
   ],
   "source": [
    "# 4. repeat steps 2 and 3 until the centroids don't change\n",
    "\n",
    "def k_means(dataset, k):\n",
    "    \"\"\"\n",
    "    Perform k-means clustering on a given dataset.\n",
    "\n",
    "    Parameters:\n",
    "    - dataset (numpy.ndarray): The dataset to be clustered.\n",
    "    - k (int): The number of clusters to create.\n",
    "\n",
    "    Returns:\n",
    "    - clusters (numpy.ndarray): An array containing the cluster assignments for each data point.\n",
    "    \"\"\"\n",
    "    centroids = dataset[np.random.randint(0, len(dataset), size=k)]\n",
    "    clusters = assign_to_centroid(dataset, centroids)\n",
    "    new_centroids = recompute_centroids(dataset, clusters)\n",
    "    max_iterations = 100\n",
    "\n",
    "    \n",
    "    while not np.array_equal(centroids, new_centroids) and max_iterations > 0:\n",
    "        centroids = new_centroids\n",
    "        clusters = assign_to_centroid(dataset, centroids)\n",
    "        new_centroids = recompute_centroids(dataset, clusters)\n",
    "        max_iterations -= 1\n",
    "    return clusters\n",
    "\n",
    "clusters = k_means(dataset, 2)\n",
    "clusters"
   ]
  },
  {
   "cell_type": "markdown",
   "metadata": {},
   "source": [
    "Visualize the data"
   ]
  },
  {
   "cell_type": "code",
   "execution_count": 74,
   "metadata": {},
   "outputs": [
    {
     "name": "stdout",
     "output_type": "stream",
     "text": [
      "Cluster 0\n",
      "Centroid [ 6.222 10.333]\n",
      "Points [array([ 2, 10]), array([11, 11]), array([6, 9]), array([ 5, 10]), array([4, 9]), array([10, 12]), array([ 9, 11]), array([ 3, 10]), array([ 6, 11])]\n",
      "\n",
      "Cluster 1\n",
      "Centroid [3.833 5.167]\n",
      "Points [array([2, 6]), array([6, 4]), array([1, 2]), array([7, 5]), array([4, 6]), array([3, 8])]\n",
      "\n"
     ]
    },
    {
     "data": {
      "image/png": "[encoded data removed]",
      "text/plain": [
       "<Figure size 640x480 with 1 Axes>"
      ]
     },
     "metadata": {},
     "output_type": "display_data"
    }
   ],
   "source": [
    "#visulaize the clusters\n",
    "\n",
    "import matplotlib.pyplot as plt\n",
    "\n",
    "#print the clusters, their centroids and the points in each cluster\n",
    "def print_clusters(clusters):\n",
    "    for cluster in clusters:\n",
    "        print(\"Cluster\", cluster)\n",
    "        print(\"Centroid\", np.array(clusters[cluster]).mean(axis=0).round(3))\n",
    "        print(\"Points\", clusters[cluster])\n",
    "        print()\n",
    "\n",
    "def visualize(clusters):\n",
    "    for cluster in clusters:\n",
    "        points = np.array(clusters[cluster])\n",
    "        plt.scatter(points[:, 0], points[:, 1])\n",
    "        #plot centroids\n",
    "        centroid = np.array(clusters[cluster]).mean(axis=0)\n",
    "        plt.scatter(centroid[0], centroid[1], marker=\"x\", color=\"black\", linewidths=5)\n",
    "    plt.show()\n",
    "\n",
    "print_clusters(clusters)\n",
    "\n",
    "\n",
    "visualize(clusters)\n",
    "\n",
    "\n"
   ]
  },
  {
   "cell_type": "markdown",
   "metadata": {},
   "source": [
    "### For k = 4"
   ]
  },
  {
   "cell_type": "code",
   "execution_count": 75,
   "metadata": {},
   "outputs": [
    {
     "name": "stdout",
     "output_type": "stream",
     "text": [
      "Cluster 0\n",
      "Centroid [3.   9.25]\n",
      "Points [array([ 2, 10]), array([4, 9]), array([ 3, 10]), array([3, 8])]\n",
      "\n",
      "Cluster 1\n",
      "Centroid "
     ]
    },
    {
     "name": "stdout",
     "output_type": "stream",
     "text": [
      "[4.  4.6]\n",
      "Points [array([2, 6]), array([6, 4]), array([1, 2]), array([7, 5]), array([4, 6])]\n",
      "\n",
      "Cluster 2\n",
      "Centroid [10.    11.333]\n",
      "Points [array([11, 11]), array([10, 12]), array([ 9, 11])]\n",
      "\n",
      "Cluster 3\n",
      "Centroid [ 5.667 10.   ]\n",
      "Points [array([6, 9]), array([ 5, 10]), array([ 6, 11])]\n",
      "\n"
     ]
    },
    {
     "data": {
      "image/png": "[encoded data removed]",
      "text/plain": [
       "<Figure size 640x480 with 1 Axes>"
      ]
     },
     "metadata": {},
     "output_type": "display_data"
    }
   ],
   "source": [
    "clusters = k_means(dataset, 4)\n",
    "print_clusters(clusters)\n",
    "visualize(clusters)"
   ]
  }
 ],
 "metadata": {
  "kernelspec": {
   "display_name": "Python 3",
   "language": "python",
   "name": "python3"
  },
  "language_info": {
   "codemirror_mode": {
    "name": "ipython",
    "version": 3
   },
   "file_extension": ".py",
   "mimetype": "text/x-python",
   "name": "python",
   "nbconvert_exporter": "python",
   "pygments_lexer": "ipython3",
   "version": "3.11.5"
  }
 },
 "nbformat": 4,
 "nbformat_minor": 2
}
